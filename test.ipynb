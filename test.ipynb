{
 "cells": [
  {
   "cell_type": "markdown",
   "metadata": {
    "colab_type": "text",
    "id": "view-in-github"
   },
   "source": [
    "<a href=\"https://colab.research.google.com/github/momosahi/Projet-PSO/blob/main/projet_PSO.ipynb\" target=\"_parent\"><img src=\"https://colab.research.google.com/assets/colab-badge.svg\" alt=\"Open In Colab\"/></a>"
   ]
  },
  {
   "cell_type": "code",
   "execution_count": null,
   "metadata": {},
   "outputs": [],
   "source": [
    "from pso import PSO"
   ]
  },
  {
   "cell_type": "code",
   "execution_count": null,
   "metadata": {
    "id": "KmUiE_y7ZQZB"
   },
   "outputs": [],
   "source": [
    "# fonction de Easom\n",
    "def test_fonction(x1, x2):\n",
    "    return -math.cos(x1) * math.cos(x2) * math.exp(-((x1 - math.pi) ** 2 + (x2 - math.pi) ** 2))\n",
    "\n",
    "pso = PSO(fonction=test_fonction, dim=2, particule=50, iteration=120, min=[-100, -100], max=[100, 100], w=0.8, phi1=2, phi2=2)"
   ]
  },
  {
   "cell_type": "code",
   "execution_count": null,
   "metadata": {
    "colab": {
     "base_uri": "https://localhost:8080/"
    },
    "id": "-zf29cWcZQVm",
    "outputId": "eae7e69d-bea2-4d11-ca0a-231cc1158cd5"
   },
   "outputs": [
    {
     "name": "stdout",
     "output_type": "stream",
     "text": [
      "Iter: 0 , Best fit: -1.1547251763273232e-156 at [ 13.86588399 -12.43800416]\n",
      "Iter: 1 , Best fit: -5.342418588689647e-81 at [-8.71325732  9.7715968 ]\n",
      "Iter: 2 , Best fit: -5.342418588689647e-81 at [-8.71325732  9.7715968 ]\n",
      "Iter: 3 , Best fit: -5.342418588689647e-81 at [-8.71325732  9.7715968 ]\n",
      "Iter: 4 , Best fit: -5.28504495869731e-18 at [-2.85811472  4.5430168 ]\n",
      "Iter: 5 , Best fit: -5.28504495869731e-18 at [-2.85811472  4.5430168 ]\n",
      "Iter: 6 , Best fit: -5.28504495869731e-18 at [-2.85811472  4.5430168 ]\n",
      "Iter: 7 , Best fit: -5.28504495869731e-18 at [-2.85811472  4.5430168 ]\n",
      "Iter: 8 , Best fit: -5.28504495869731e-18 at [-2.85811472  4.5430168 ]\n",
      "Iter: 9 , Best fit: -5.28504495869731e-18 at [-2.85811472  4.5430168 ]\n",
      "Iter: 10 , Best fit: -8.785494073974639e-17 at [-2.93359889  3.30700313]\n",
      "Iter: 11 , Best fit: -7.44740557654148e-05 at [1.20260818 1.26255447]\n",
      "Iter: 12 , Best fit: -7.44740557654148e-05 at [1.20260818 1.26255447]\n",
      "Iter: 13 , Best fit: -7.44740557654148e-05 at [1.20260818 1.26255447]\n",
      "Iter: 14 , Best fit: -7.44740557654148e-05 at [1.20260818 1.26255447]\n",
      "Iter: 15 , Best fit: -7.44740557654148e-05 at [1.20260818 1.26255447]\n",
      "Iter: 16 , Best fit: -7.44740557654148e-05 at [1.20260818 1.26255447]\n",
      "Iter: 17 , Best fit: -7.44740557654148e-05 at [1.20260818 1.26255447]\n",
      "Iter: 18 , Best fit: -0.34113264553222883 at [2.82373905 2.37208967]\n",
      "Iter: 19 , Best fit: -0.34113264553222883 at [2.82373905 2.37208967]\n",
      "Iter: 20 , Best fit: -0.34113264553222883 at [2.82373905 2.37208967]\n",
      "Iter: 21 , Best fit: -0.34113264553222883 at [2.82373905 2.37208967]\n",
      "Iter: 22 , Best fit: -0.34113264553222883 at [2.82373905 2.37208967]\n",
      "Iter: 23 , Best fit: -0.34113264553222883 at [2.82373905 2.37208967]\n",
      "Iter: 24 , Best fit: -0.7245269373595278 at [2.78418813 2.84879629]\n",
      "Iter: 25 , Best fit: -0.7245269373595278 at [2.78418813 2.84879629]\n",
      "Iter: 26 , Best fit: -0.7245269373595278 at [2.78418813 2.84879629]\n",
      "Iter: 27 , Best fit: -0.7245269373595278 at [2.78418813 2.84879629]\n",
      "Iter: 28 , Best fit: -0.7245269373595278 at [2.78418813 2.84879629]\n",
      "Iter: 29 , Best fit: -0.7245269373595278 at [2.78418813 2.84879629]\n",
      "Iter: 30 , Best fit: -0.7245269373595278 at [2.78418813 2.84879629]\n",
      "Iter: 31 , Best fit: -0.7245269373595278 at [2.78418813 2.84879629]\n",
      "Iter: 32 , Best fit: -0.9733424770804692 at [3.18197451 3.01365883]\n",
      "Iter: 33 , Best fit: -0.9733424770804692 at [3.18197451 3.01365883]\n",
      "Iter: 34 , Best fit: -0.9733424770804692 at [3.18197451 3.01365883]\n",
      "Iter: 35 , Best fit: -0.9733424770804692 at [3.18197451 3.01365883]\n",
      "Iter: 36 , Best fit: -0.9733424770804692 at [3.18197451 3.01365883]\n",
      "Iter: 37 , Best fit: -0.9733424770804692 at [3.18197451 3.01365883]\n",
      "Iter: 38 , Best fit: -0.9733424770804692 at [3.18197451 3.01365883]\n",
      "Iter: 39 , Best fit: -0.9733424770804692 at [3.18197451 3.01365883]\n",
      "Iter: 40 , Best fit: -0.9733424770804692 at [3.18197451 3.01365883]\n",
      "Iter: 41 , Best fit: -0.9733424770804692 at [3.18197451 3.01365883]\n",
      "Iter: 42 , Best fit: -0.9733424770804692 at [3.18197451 3.01365883]\n",
      "Iter: 43 , Best fit: -0.9733424770804692 at [3.18197451 3.01365883]\n",
      "Iter: 44 , Best fit: -0.9733424770804692 at [3.18197451 3.01365883]\n",
      "Iter: 45 , Best fit: -0.9733424770804692 at [3.18197451 3.01365883]\n",
      "Iter: 46 , Best fit: -0.9733424770804692 at [3.18197451 3.01365883]\n",
      "Iter: 47 , Best fit: -0.9733424770804692 at [3.18197451 3.01365883]\n",
      "Iter: 48 , Best fit: -0.9733424770804692 at [3.18197451 3.01365883]\n",
      "Iter: 49 , Best fit: -0.9733424770804692 at [3.18197451 3.01365883]\n",
      "Iter: 50 , Best fit: -0.9733424770804692 at [3.18197451 3.01365883]\n",
      "Iter: 51 , Best fit: -0.9733424770804692 at [3.18197451 3.01365883]\n",
      "Iter: 52 , Best fit: -0.9733424770804692 at [3.18197451 3.01365883]\n",
      "Iter: 53 , Best fit: -0.9733424770804692 at [3.18197451 3.01365883]\n",
      "Iter: 54 , Best fit: -0.9767144389778265 at [3.25824365 3.1873013 ]\n",
      "Iter: 55 , Best fit: -0.9767144389778265 at [3.25824365 3.1873013 ]\n",
      "Iter: 56 , Best fit: -0.9767144389778265 at [3.25824365 3.1873013 ]\n",
      "Iter: 57 , Best fit: -0.9767144389778265 at [3.25824365 3.1873013 ]\n",
      "Iter: 58 , Best fit: -0.9767144389778265 at [3.25824365 3.1873013 ]\n",
      "Iter: 59 , Best fit: -0.9767144389778265 at [3.25824365 3.1873013 ]\n",
      "Iter: 60 , Best fit: -0.9906247239459209 at [3.20060444 3.19447145]\n",
      "Iter: 61 , Best fit: -0.9906247239459209 at [3.20060444 3.19447145]\n",
      "Iter: 62 , Best fit: -0.9906247239459209 at [3.20060444 3.19447145]\n",
      "Iter: 63 , Best fit: -0.9906247239459209 at [3.20060444 3.19447145]\n",
      "Iter: 64 , Best fit: -0.9906247239459209 at [3.20060444 3.19447145]\n",
      "Iter: 65 , Best fit: -0.9906247239459209 at [3.20060444 3.19447145]\n",
      "Iter: 66 , Best fit: -0.9906247239459209 at [3.20060444 3.19447145]\n",
      "Iter: 67 , Best fit: -0.9906247239459209 at [3.20060444 3.19447145]\n",
      "Iter: 68 , Best fit: -0.9906247239459209 at [3.20060444 3.19447145]\n",
      "Iter: 69 , Best fit: -0.9906247239459209 at [3.20060444 3.19447145]\n",
      "Iter: 70 , Best fit: -0.9906247239459209 at [3.20060444 3.19447145]\n",
      "Iter: 71 , Best fit: -0.9906247239459209 at [3.20060444 3.19447145]\n",
      "Iter: 72 , Best fit: -0.9990766916900298 at [3.16627049 3.14420169]\n",
      "Iter: 73 , Best fit: -0.9990766916900298 at [3.16627049 3.14420169]\n",
      "Iter: 74 , Best fit: -0.9990766916900298 at [3.16627049 3.14420169]\n",
      "Iter: 75 , Best fit: -0.9990766916900298 at [3.16627049 3.14420169]\n",
      "Iter: 76 , Best fit: -0.9990766916900298 at [3.16627049 3.14420169]\n",
      "Iter: 77 , Best fit: -0.9990766916900298 at [3.16627049 3.14420169]\n",
      "Iter: 78 , Best fit: -0.9990766916900298 at [3.16627049 3.14420169]\n",
      "Iter: 79 , Best fit: -0.9990766916900298 at [3.16627049 3.14420169]\n",
      "Iter: 80 , Best fit: -0.9990766916900298 at [3.16627049 3.14420169]\n",
      "Iter: 81 , Best fit: -0.9990766916900298 at [3.16627049 3.14420169]\n",
      "Iter: 82 , Best fit: -0.9990766916900298 at [3.16627049 3.14420169]\n",
      "Iter: 83 , Best fit: -0.9990766916900298 at [3.16627049 3.14420169]\n",
      "Iter: 84 , Best fit: -0.9990766916900298 at [3.16627049 3.14420169]\n",
      "Iter: 85 , Best fit: -0.9990766916900298 at [3.16627049 3.14420169]\n",
      "Iter: 86 , Best fit: -0.9990766916900298 at [3.16627049 3.14420169]\n",
      "Iter: 87 , Best fit: -0.9990766916900298 at [3.16627049 3.14420169]\n",
      "Iter: 88 , Best fit: -0.9990766916900298 at [3.16627049 3.14420169]\n",
      "Iter: 89 , Best fit: -0.999682352401905 at [3.15436463 3.1485693 ]\n",
      "Iter: 90 , Best fit: -0.999682352401905 at [3.15436463 3.1485693 ]\n",
      "Iter: 91 , Best fit: -0.999682352401905 at [3.15436463 3.1485693 ]\n",
      "Iter: 92 , Best fit: -0.999682352401905 at [3.15436463 3.1485693 ]\n",
      "Iter: 93 , Best fit: -0.999682352401905 at [3.15436463 3.1485693 ]\n",
      "Iter: 94 , Best fit: -0.999682352401905 at [3.15436463 3.1485693 ]\n",
      "Iter: 95 , Best fit: -0.999682352401905 at [3.15436463 3.1485693 ]\n",
      "Iter: 96 , Best fit: -0.999682352401905 at [3.15436463 3.1485693 ]\n",
      "Iter: 97 , Best fit: -0.999682352401905 at [3.15436463 3.1485693 ]\n",
      "Iter: 98 , Best fit: -0.999682352401905 at [3.15436463 3.1485693 ]\n",
      "Iter: 99 , Best fit: -0.999682352401905 at [3.15436463 3.1485693 ]\n",
      "Iter: 100 , Best fit: -0.9999478730148322 at [3.14502448 3.14638585]\n",
      "Iter: 101 , Best fit: -0.9999478730148322 at [3.14502448 3.14638585]\n",
      "Iter: 102 , Best fit: -0.9999746928962563 at [3.14475813 3.13897514]\n",
      "Iter: 103 , Best fit: -0.9999746928962563 at [3.14475813 3.13897514]\n",
      "Iter: 104 , Best fit: -0.9999746928962563 at [3.14475813 3.13897514]\n",
      "Iter: 105 , Best fit: -0.9999746928962563 at [3.14475813 3.13897514]\n",
      "Iter: 106 , Best fit: -0.9999746928962563 at [3.14475813 3.13897514]\n",
      "Iter: 107 , Best fit: -0.9999746928962563 at [3.14475813 3.13897514]\n",
      "Iter: 108 , Best fit: -0.9999746928962563 at [3.14475813 3.13897514]\n",
      "Iter: 109 , Best fit: -0.9999746928962563 at [3.14475813 3.13897514]\n",
      "Iter: 110 , Best fit: -0.9999746928962563 at [3.14475813 3.13897514]\n",
      "Iter: 111 , Best fit: -0.9999746928962563 at [3.14475813 3.13897514]\n",
      "Iter: 112 , Best fit: -0.9999746928962563 at [3.14475813 3.13897514]\n",
      "Iter: 113 , Best fit: -0.9999746928962563 at [3.14475813 3.13897514]\n",
      "Iter: 114 , Best fit: -0.9999746928962563 at [3.14475813 3.13897514]\n",
      "Iter: 115 , Best fit: -0.9999746928962563 at [3.14475813 3.13897514]\n",
      "Iter: 116 , Best fit: -0.9999746928962563 at [3.14475813 3.13897514]\n",
      "Iter: 117 , Best fit: -0.9999746928962563 at [3.14475813 3.13897514]\n",
      "Iter: 118 , Best fit: -0.999987558801096 at [3.13952192 3.14359421]\n",
      "Iter: 119 , Best fit: -0.999987558801096 at [3.13952192 3.14359421]\n"
     ]
    },
    {
     "data": {
      "text/plain": [
       "(array([3.13952192, 3.14359421]), -0.999987558801096)"
      ]
     },
     "execution_count": 20,
     "metadata": {
      "tags": []
     },
     "output_type": "execute_result"
    }
   ],
   "source": [
    "pso.run()"
   ]
  },
  {
   "cell_type": "code",
   "execution_count": null,
   "metadata": {
    "colab": {
     "base_uri": "https://localhost:8080/"
    },
    "id": "VLp_d_aiZQRL",
    "outputId": "9ef4d3ce-fe0c-4b6b-9455-1bc56f5095e2"
   },
   "outputs": [
    {
     "name": "stdout",
     "output_type": "stream",
     "text": [
      "best_x is  [3.13952192 3.14359421] best_y is -0.999987558801096\n"
     ]
    }
   ],
   "source": [
    "print('best_x is ', pso.Gb_x, 'best_y is', pso.Gb_y)"
   ]
  },
  {
   "cell_type": "code",
   "execution_count": null,
   "metadata": {
    "colab": {
     "base_uri": "https://localhost:8080/",
     "height": 265
    },
    "id": "EsxPeUxKZQEi",
    "outputId": "68b0efe0-3ab3-4608-be50-70a64e2a0f57"
   },
   "outputs": [
    {
     "data": {
      "image/png": "[encoded data removed]",
      "text/plain": [
       "<Figure size 432x288 with 1 Axes>"
      ]
     },
     "metadata": {
      "needs_background": "light",
      "tags": []
     },
     "output_type": "display_data"
    }
   ],
   "source": [
    "import matplotlib.pyplot as plt\n",
    "\n",
    "plt.plot(pso.Gb_y_tab)\n",
    "plt.show()"
   ]
  },
  {
   "cell_type": "code",
   "execution_count": null,
   "metadata": {
    "colab": {
     "base_uri": "https://localhost:8080/",
     "height": 298
    },
    "id": "JUXAXLJqZPxg",
    "outputId": "aaca216e-75b0-4018-f2ef-9967fc196282",
    "pycharm": {
     "name": "#%%\n"
    }
   },
   "outputs": [
    {
     "name": "stdout",
     "output_type": "stream",
     "text": [
      "ok\n"
     ]
    },
    {
     "data": {
      "image/png": "[encoded data removed]",
      "text/plain": [
       "<Figure size 432x288 with 1 Axes>"
      ]
     },
     "metadata": {
      "needs_background": "light",
      "tags": []
     },
     "output_type": "display_data"
    }
   ],
   "source": [
    "from matplotlib.animation import FuncAnimation\n",
    "\n",
    "fig, ax = plt.subplots(1, 1)\n",
    "line = plt.plot([], [], 'b.')\n",
    "\n",
    "def update_scatter(frame):\n",
    "    plt.clf()\n",
    "    plt.xlim(-110, 110)\n",
    "    plt.ylim(-110, 110)\n",
    "    i = frame\n",
    "    plt.title('iter = ' + str(i))\n",
    "    plt.setp(line, 'xdata', pso.coord['X'][i][:, 0], 'ydata', pso.coord['X'][i][:, 1])\n",
    "    plt.scatter(pso.coord['X'][i][:, 0], pso.coord['X'][i][:, 1], s=5, marker='o', linewidths=1)\n",
    "    return line\n",
    "\n",
    "ani = FuncAnimation(fig, update_scatter, blit=True, interval=100, frames=pso.iteration)\n",
    "\n",
    "ani.save('pso.gif', writer='pillow')\n",
    "print('ok')"
   ]
  }
 ],
 "metadata": {
  "colab": {
   "authorship_tag": "ABX9TyOeyvQ9lQwX1bTBFapXo2Nm",
   "include_colab_link": true,
   "name": "projet_PSO.ipynb",
   "provenance": []
  },
  "kernelspec": {
   "display_name": "Python 3",
   "name": "python3"
  },
  "language_info": {
   "name": "python",
   "version": "3.9.7"
  }
 },
 "nbformat": 4,
 "nbformat_minor": 0
}
